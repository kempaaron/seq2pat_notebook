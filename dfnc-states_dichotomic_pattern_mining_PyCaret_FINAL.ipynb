{
 "cells": [
  {
   "cell_type": "markdown",
   "metadata": {
    "pycharm": {
     "name": "#%% md\n"
    }
   },
   "source": [
    "# Dichotomic Pattern Mining of Dynamic Functional Network Connectivity (dFNC) Sequences using Seq2Pat \n",
    "\n",
    "Aaron S. Kemp, MBA, PhD Candidate<br>\n",
    "Department of Biomedical Informatics,<br> \n",
    "University of Arkansas for Medical Sciences"
   ]
  },
  {
   "cell_type": "markdown",
   "metadata": {},
   "source": [
    "**Related Publication:**\n",
    "This notebook includes the code used to generate the Dichotomic Pattern Mining and machine learning classification analyses described in the manuscript entitled, “Sequential Patterning of Dynamic Brain States Distinguish Parkinson’s Disease Patients with Mild Cognitive Impairments”, which is currently under consideration for publication in the journal *NeuroImage: Clinical*.\n",
    "\n",
    "**Licensing Note:**  \n",
    "The following blocks of code were adapted from the [Seq2Pat GitHub repository](https://github.com/fidelity/seq2pat), which is available under [Apache License 2.0](http://www.apache.org/licenses/LICENSE-2.0).  \n",
    "\n",
    "**Current Adaptation by Aaron S. Kemp:**  \n",
    "This adaptation has been modified for the purposes of this project and is provided under the following terms:\n",
    "- **Copyright (C) 2025 University of Arkansas for Medical Sciences**  \n",
    "- **Author:** Aaron S. Kemp, askemp@uams.edu  \n",
    "- **Licensed under the Apache License, Version 2.0**  \n",
    "You may obtain a copy of the License at [Apache License 2.0](http://www.apache.org/licenses/LICENSE-2.0)\n",
    "\n",
    "**Additional Notes:**  \n",
    "Unless required by applicable law or agreed to in writing, software distributed under the License is distributed on an \"AS IS\" BASIS, WITHOUT WARRANTIES OR CONDITIONS OF ANY KIND, either express or implied. Please refer to both the MIT License (for the original work) and the Apache License 2.0 (for the adaptations) for specific terms and conditions regarding the use, distribution, and modification of the code. You may not use this file except in compliance with the License."
   ]
  },
  {
   "cell_type": "code",
   "execution_count": null,
   "metadata": {
    "pycharm": {
     "name": "#%%\n"
    }
   },
   "outputs": [],
   "source": [
    "import pandas as pd\n",
    "from ast import literal_eval\n",
    "from time import time\n",
    "from IPython.display import display\n",
    "from matplotlib_venn import venn2\n",
    "import matplotlib.pyplot as plt\n",
    "from pycaret.classification import *\n",
    "from sequential.seq2pat import Seq2Pat, Attribute\n",
    "from sequential.pat2feat import Pat2Feat\n",
    "from sequential.dpm import dichotomic_pattern_mining, DichotomicAggregation"
   ]
  },
  {
   "cell_type": "markdown",
   "metadata": {
    "pycharm": {
     "name": "#%% md\n"
    }
   },
   "source": [
    "## Arguments"
   ]
  },
  {
   "cell_type": "code",
   "execution_count": null,
   "metadata": {
    "pycharm": {
     "name": "#%%\n"
    }
   },
   "outputs": [],
   "source": [
    "args = {}\n",
    "args['data'] = \"./data/dfc_data.csv\"\n",
    "args['min_frequency_pos'] = 0.05\n",
    "args['min_frequency_neg'] = 0.05\n",
    "args['max_span'] = None"
   ]
  },
  {
   "cell_type": "markdown",
   "metadata": {
    "pycharm": {
     "name": "#%% md\n"
    }
   },
   "source": [
    "### Transform sequence from string to list"
   ]
  },
  {
   "cell_type": "code",
   "execution_count": null,
   "metadata": {},
   "outputs": [],
   "source": [
    "# Input lists\n",
    "sequences = sequence_df[[col for col in sequence_df.columns if 'sequence' in col]].values.tolist()\n",
    "times = sequence_df[[col for col in sequence_df.columns if 'time' in col]].values.tolist()"
   ]
  },
  {
   "cell_type": "markdown",
   "metadata": {
    "pycharm": {
     "name": "#%% md\n"
    }
   },
   "source": [
    "## Data Exploration"
   ]
  },
  {
   "cell_type": "code",
   "execution_count": null,
   "metadata": {
    "pycharm": {
     "name": "#%%\n"
    }
   },
   "outputs": [],
   "source": [
    "# EDA for items, max length, average length, number of positive and negative\n",
    "num_sequences = len(sequence_df)\n",
    "# max_len = sequence_df['event_sequence'].apply(len).max()\n",
    "max_len = max(len(x) for x in sequences)\n",
    "# avg_len = sequence_df['event_sequence'].apply(len).mean()\n",
    "# avg_len = mean(len(x) for x in sequences)\n",
    "num_pos = len(sequence_df[sequence_df['label_2class_PD']==0])\n",
    "\n",
    "print(f'Number of sequences: {num_sequences}')\n",
    "print(f'Maximum length: {max_len}')\n",
    "# print(f'Average length: {avg_len}')\n",
    "print(f'Number of positives: {num_pos}; Number of negatives: {num_sequences - num_pos}')"
   ]
  },
  {
   "cell_type": "markdown",
   "metadata": {
    "pycharm": {
     "name": "#%% md\n"
    }
   },
   "source": [
    "## Seq2Pat for Positive Labels\n",
    "- There is one attribute for each event: `event_time`\n",
    "- Constraint 1: This constraint is to enforce the average event time greater than 20 sec\n",
    "- Constraint 2: The built-in constraint in Seq2Pat, which can be configured by max_span parameter. This is to enforce the pattern mining to be within a span of `max_span` items (max_span=10 by default). "
   ]
  },
  {
   "cell_type": "code",
   "execution_count": null,
   "metadata": {
    "pycharm": {
     "name": "#%%\n"
    }
   },
   "outputs": [],
   "source": [
    "# Get sequences having positive labels, and associated attributes.\n",
    "\n",
    "# sequences_pos = sequence_df[sequence_df['label_2class_PD']==1]['event_sequence'].values.tolist()\n",
    "sequences_pos = sequence_df[sequence_df['label_2class_PD']==0][[col for col in sequence_df.columns if 'sequence' in col]].values.tolist()\n",
    "\n",
    "# times_pos = sequence_df[sequence_df['label_2class_PD']==0]['event_time'].values.tolist()\n",
    "times_pos = sequence_df[sequence_df['label_2class_PD']==0][[col for col in sequence_df.columns if 'time' in col]].values.tolist()\n",
    "\n",
    "seq2pat_pos = Seq2Pat(sequences_pos)\n",
    "\n",
    "# Define a constraint on event time, average time >= 20 sec\n",
    "# time_attr_pos = Attribute(times_pos)\n",
    "# time_ct_pos = 20000 <= time_attr_pos.average()\n",
    "\n",
    "# Add constraints to seq2pat\n",
    "# cs_pos = seq2pat_pos.add_constraint(time_ct_pos)"
   ]
  },
  {
   "cell_type": "markdown",
   "metadata": {
    "pycharm": {
     "name": "#%% md\n"
    }
   },
   "source": [
    "## Seq2Pat for Negative Labels\n",
    "- Here we apply the same constraint models to sequences with negative labels"
   ]
  },
  {
   "cell_type": "code",
   "execution_count": null,
   "metadata": {
    "pycharm": {
     "name": "#%%\n"
    }
   },
   "outputs": [],
   "source": [
    "# Get sequences having positive labels, and associated attributes.\n",
    "\n",
    "# sequences_neg = sequence_df[sequence_df['label']==0]['event_sequence'].values.tolist()\n",
    "sequences_neg = sequence_df[sequence_df['label_2class_PD']==1][[col for col in sequence_df.columns if 'sequence' in col]].values.tolist()\n",
    "\n",
    "# times_neg = sequence_df[sequence_df['label']==0]['event_time'].values.tolist()\n",
    "times_neg = sequence_df[sequence_df['label_2class_PD']==1][[col for col in sequence_df.columns if 'time' in col]].values.tolist()\n",
    "\n",
    "seq2pat_neg = Seq2Pat(sequences_neg)\n",
    "\n",
    "# Define a constraint on event time, average time >= 20 sec\n",
    "# time_attr_neg = Attribute(times_neg)\n",
    "# time_ct_neg = 20000 <= time_attr_neg.average()\n",
    "\n",
    "# Add constraints to seq2pat\n",
    "# cs_neg = seq2pat_neg.add_constraint(time_ct_neg)"
   ]
  },
  {
   "cell_type": "markdown",
   "metadata": {
    "pycharm": {
     "name": "#%% md\n"
    }
   },
   "source": [
    "## Dichotomic Pattern Mining: From Sequences to Patterns\n",
    "- In DPM, we utilize the two Seq2Pat models for positive and negative sequences, mine the patterns that are frequent in each outcome and return different aggregations of mined patterns from the two cohorts."
   ]
  },
  {
   "cell_type": "code",
   "execution_count": null,
   "metadata": {
    "pycharm": {
     "name": "#%%\n"
    }
   },
   "outputs": [],
   "source": [
    "t = time()\n",
    "\n",
    "# Run DPM on positive and negative patterns and return a dict of pattern aggregations\n",
    "aggregation_to_patterns = dichotomic_pattern_mining(seq2pat_pos, seq2pat_neg,\n",
    "                                                    args['min_frequency_pos'],\n",
    "                                                    args['min_frequency_neg'])\n",
    "\n",
    "print(f'DPM finished! Runtime: {time()-t:.4f} sec')\n",
    "\n",
    "for aggregation, patterns in aggregation_to_patterns.items():\n",
    "    print(\"Aggregation: \", aggregation, \" with number of patterns: \", len(patterns))\n",
    "    if aggregation == 'unique_positive':\n",
    "        unique_positive = len(patterns)\n",
    "    elif aggregation == 'unique_negative':\n",
    "        unique_negative = len(patterns)\n",
    "    elif aggregation == 'intersection':\n",
    "        intersection = len(patterns)\n",
    "\n",
    "# Create the Venn diagram\n",
    "venn2(subsets=(unique_negative, unique_positive, intersection), set_labels=(r'$\\mathbf{PD}$', r'$\\mathbf{HC}$'))\n",
    "plt.title(\"Venn Diagram of Detected Sequential Patterns\")\n",
    "plt.show()"
   ]
  },
  {
   "cell_type": "markdown",
   "metadata": {
    "pycharm": {
     "name": "#%% md\n"
    }
   },
   "source": [
    "## From Patterns to Encodings\n",
    "- Finally, we generate encodings of all sequences based on an aggregation of patterns found by DPM."
   ]
  },
  {
   "cell_type": "code",
   "execution_count": null,
   "metadata": {
    "pycharm": {
     "name": "#%%\n"
    }
   },
   "outputs": [],
   "source": [
    "# Notice that constraints are optional to the generation of encodings\n",
    "# In the following, we define a constraint on event time for all sequences, average time >= 20 sec\n",
    "# The Seq2Pat built-in span constraint can be enforced in encodings generation by setting `max_span=10`.\n",
    "time_attr = Attribute(times)\n",
    "time_ct = 200 <= time_attr.average()\n",
    "\n",
    "# List of constraints \n",
    "constraints = None\n",
    "\n",
    "for aggregation, patterns in aggregation_to_patterns.items():\n",
    "    print(\"Aggregation: \", aggregation)\n",
    "    \n",
    "    t = time()\n",
    "    # find one hot encoding of each sequence for each pattern subject to constraints\n",
    "    pat2feat = Pat2Feat()\n",
    "    encodings = pat2feat.get_features(sequences, patterns, constraints, args['max_span'],\n",
    "                                      drop_pattern_frequency=False)\n",
    "    \n",
    "    print(f'Encoding finished! Runtime: {time()-t:.4f} sec')\n",
    "    display(encodings.head())"
   ]
  },
  {
   "cell_type": "code",
   "execution_count": null,
   "metadata": {},
   "outputs": [],
   "source": [
    "#Use this code to save the encodings to csv file\n",
    "encodings.to_csv('data/encodings_dfc_082324_minsup05.csv') "
   ]
  },
  {
   "cell_type": "code",
   "execution_count": null,
   "metadata": {},
   "outputs": [],
   "source": [
    "# Load the DataFrame from the csv just created\n",
    "data_dfc = pd.read_csv(\"./data/encodings_dfc_082324_minsup05.csv\") #NB - Stop HERE, if you've already added the labels column\n",
    "\n",
    "# Drop the 'Unnamed: 0' column if it exists\n",
    "if 'Unnamed: 0' in data_dfc.columns:\n",
    "    data_dfc.drop('Unnamed: 0', axis=1, inplace=True)\n",
    "\n",
    "# Assuming sequence_df['label_2class_PD'] is the series you want to add as the first column\n",
    "# Using DataFrame.insert() to add it as the first column\n",
    "data_dfc.insert(0, 'label_2class_PD', sequence_df['label_2class_PD'])\n",
    "\n",
    "# Display the first few rows to verify\n",
    "data_dfc.head()"
   ]
  },
  {
   "cell_type": "code",
   "execution_count": null,
   "metadata": {},
   "outputs": [],
   "source": [
    "# ONLY use this code if you need to upload a previously saved encoding file\n",
    "# In this following example code, I am uploading the file after inserting the target that contains all 3 dx labels\n",
    "data_dfc = pd.read_csv(\"./data/encodings_dfc_082324_minsup05_label2class_PDonly.csv\") #upload file only after inserting first column as the target variable\n",
    "# Display the first few rows to verify\n",
    "data_dfc.head()"
   ]
  },
  {
   "cell_type": "code",
   "execution_count": null,
   "metadata": {},
   "outputs": [],
   "source": []
  },
  {
   "cell_type": "code",
   "execution_count": null,
   "metadata": {},
   "outputs": [],
   "source": [
    "#Run comparison of various classification models from PyCaret\n",
    "clf_dfc = setup(data=data_dfc, target='label_2class_MCI', train_size=0.80, ignore_features=['sequence'], session_id=123, imputation_type=None, verbose=False)\n",
    "best = compare_models()"
   ]
  },
  {
   "cell_type": "code",
   "execution_count": null,
   "metadata": {},
   "outputs": [],
   "source": [
    "rf_dfc = create_model('rf')"
   ]
  },
  {
   "cell_type": "code",
   "execution_count": null,
   "metadata": {},
   "outputs": [],
   "source": [
    "tuned_rf_dfc = tune_model(rf_dfc)"
   ]
  },
  {
   "cell_type": "code",
   "execution_count": null,
   "metadata": {
    "scrolled": true
   },
   "outputs": [],
   "source": [
    "evaluate_model(tuned_rf_dfc)"
   ]
  },
  {
   "cell_type": "code",
   "execution_count": null,
   "metadata": {},
   "outputs": [],
   "source": [
    "lda_dfc = create_model('lda')"
   ]
  },
  {
   "cell_type": "code",
   "execution_count": null,
   "metadata": {},
   "outputs": [],
   "source": [
    "tuned_lda_dfc = tune_model(lda_dfc)"
   ]
  },
  {
   "cell_type": "code",
   "execution_count": null,
   "metadata": {
    "scrolled": true
   },
   "outputs": [],
   "source": [
    "evaluate_model(lda_dfc)"
   ]
  },
  {
   "cell_type": "code",
   "execution_count": null,
   "metadata": {},
   "outputs": [],
   "source": [
    "unique_positive = (aggregation_to_patterns['unique_positive'])\n",
    "print(unique_positive)"
   ]
  }
 ],
 "metadata": {
  "kernelspec": {
   "display_name": "Python 3",
   "language": "python",
   "name": "python3"
  },
  "language_info": {
   "codemirror_mode": {
    "name": "ipython",
    "version": 3
   },
   "file_extension": ".py",
   "mimetype": "text/x-python",
   "name": "python",
   "nbconvert_exporter": "python",
   "pygments_lexer": "ipython3",
   "version": "3.8.5"
  }
 },
 "nbformat": 4,
 "nbformat_minor": 4
}
